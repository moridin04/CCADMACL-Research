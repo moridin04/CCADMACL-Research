{
  "nbformat": 4,
  "nbformat_minor": 0,
  "metadata": {
    "colab": {
      "provenance": [],
      "authorship_tag": "ABX9TyNE4EaMAWNjrwvQE+isYPTb",
      "include_colab_link": true
    },
    "kernelspec": {
      "name": "python3",
      "display_name": "Python 3"
    },
    "language_info": {
      "name": "python"
    }
  },
  "cells": [
    {
      "cell_type": "markdown",
      "metadata": {
        "id": "view-in-github",
        "colab_type": "text"
      },
      "source": [
        "<a href=\"https://colab.research.google.com/github/moridin04/CCADMACL-Research/blob/main/Fraud_Detection_Program.ipynb\" target=\"_parent\"><img src=\"https://colab.research.google.com/assets/colab-badge.svg\" alt=\"Open In Colab\"/></a>"
      ]
    },
    {
      "cell_type": "code",
      "source": [
        "#Import necessary libraries"
      ],
      "metadata": {
        "id": "n6IO_PphjCz8"
      },
      "execution_count": null,
      "outputs": []
    },
    {
      "cell_type": "code",
      "execution_count": null,
      "metadata": {
        "id": "-ZHJSflCZLbZ"
      },
      "outputs": [],
      "source": [
        "#Load the Credit Card Fraud Detection dataset"
      ]
    },
    {
      "cell_type": "code",
      "source": [
        "#Display head and tail of dataset\n",
        "\n",
        "#Display shape, columns, null values, data types\n",
        "\n",
        "#Display statistics (df.describe(include='all))\n",
        "\n",
        "#Display distribution of independent variable \"Class\"\n",
        "\n",
        "#Display distribution of features (Time, V1-V28, Amount)"
      ],
      "metadata": {
        "id": "dzqqGwS4jm_p"
      },
      "execution_count": null,
      "outputs": []
    },
    {
      "cell_type": "code",
      "source": [
        "#Preprocessing\n",
        "#Checking of null values\n",
        "#Imbalanced Data Handling\n",
        "#Feature Scaling (StandardScaler)\n",
        "#See overview of pre-processed dataset"
      ],
      "metadata": {
        "id": "_gFLEIVWZVRx"
      },
      "execution_count": null,
      "outputs": []
    },
    {
      "cell_type": "code",
      "source": [
        "#Explained Variance\n",
        "#Cumulative Explained Variance"
      ],
      "metadata": {
        "id": "W3bywLwrZXPx"
      },
      "execution_count": null,
      "outputs": []
    },
    {
      "cell_type": "code",
      "source": [
        "#Modelling\n",
        "#Isolation Forest\n"
      ],
      "metadata": {
        "id": "txUiQpwxgTd4"
      },
      "execution_count": null,
      "outputs": []
    },
    {
      "cell_type": "code",
      "source": [
        "#Model Evaluation\n",
        "#Precision\n",
        "\n",
        "#Recall\n",
        "\n",
        "#F1-Score\n",
        "\n",
        "#AUC-ROC"
      ],
      "metadata": {
        "id": "urhS0ozUk-iQ"
      },
      "execution_count": null,
      "outputs": []
    },
    {
      "cell_type": "code",
      "source": [
        "#Autoencoders\n"
      ],
      "metadata": {
        "id": "eg6mG8DnlMRm"
      },
      "execution_count": null,
      "outputs": []
    },
    {
      "cell_type": "code",
      "source": [
        "#Model Evaluation\n",
        "#Precision\n",
        "\n",
        "#Recall\n",
        "\n",
        "#F1-Score\n",
        "\n",
        "#AUC-ROC"
      ],
      "metadata": {
        "id": "qkeryI9LlPCi"
      },
      "execution_count": null,
      "outputs": []
    },
    {
      "cell_type": "code",
      "source": [
        "#Local Outlier Factor (LOF)"
      ],
      "metadata": {
        "id": "Df87_BGKlPiA"
      },
      "execution_count": null,
      "outputs": []
    },
    {
      "cell_type": "code",
      "source": [
        "#Model Evaluation\n",
        "#Precision\n",
        "\n",
        "#Recall\n",
        "\n",
        "#F1-Score\n",
        "\n",
        "#AUC-ROC"
      ],
      "metadata": {
        "id": "JFg_e31vlQ9x"
      },
      "execution_count": null,
      "outputs": []
    },
    {
      "cell_type": "code",
      "source": [
        "#Comparison of models, select the best-performing model\n",
        "\n",
        "#Matplotlib and Seaborn"
      ],
      "metadata": {
        "id": "wYFqrIKAlGWu"
      },
      "execution_count": null,
      "outputs": []
    },
    {
      "cell_type": "code",
      "source": [
        "#Creation of metrics_data\n",
        "\n",
        "#Create and display DataFrame"
      ],
      "metadata": {
        "id": "T4XCllCyloNq"
      },
      "execution_count": null,
      "outputs": []
    }
  ]
}