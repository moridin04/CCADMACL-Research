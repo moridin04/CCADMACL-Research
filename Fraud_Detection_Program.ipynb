{
  "nbformat": 4,
  "nbformat_minor": 0,
  "metadata": {
    "colab": {
      "provenance": [],
      "authorship_tag": "ABX9TyOIv3rz371zvWkn5ePmj+yO",
      "include_colab_link": true
    },
    "kernelspec": {
      "name": "python3",
      "display_name": "Python 3"
    },
    "language_info": {
      "name": "python"
    }
  },
  "cells": [
    {
      "cell_type": "markdown",
      "metadata": {
        "id": "view-in-github",
        "colab_type": "text"
      },
      "source": [
        "<a href=\"https://colab.research.google.com/github/moridin04/CCADMACL-Research/blob/main/Fraud_Detection_Program.ipynb\" target=\"_parent\"><img src=\"https://colab.research.google.com/assets/colab-badge.svg\" alt=\"Open In Colab\"/></a>"
      ]
    },
    {
      "cell_type": "code",
      "execution_count": null,
      "metadata": {
        "id": "-ZHJSflCZLbZ"
      },
      "outputs": [],
      "source": [
        "#Load dataset"
      ]
    },
    {
      "cell_type": "code",
      "source": [
        "#Preprocessing\n",
        "#Imbalanced Data Handling\n",
        "#Feature Scaling"
      ],
      "metadata": {
        "id": "_gFLEIVWZVRx"
      },
      "execution_count": null,
      "outputs": []
    },
    {
      "cell_type": "code",
      "source": [
        "#Explained Variance\n",
        "#Cumulative Explained Variance"
      ],
      "metadata": {
        "id": "W3bywLwrZXPx"
      },
      "execution_count": null,
      "outputs": []
    }
  ]
}