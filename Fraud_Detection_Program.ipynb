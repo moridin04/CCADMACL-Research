{
  "nbformat": 4,
  "nbformat_minor": 0,
  "metadata": {
    "colab": {
      "provenance": [],
      "include_colab_link": true
    },
    "kernelspec": {
      "name": "python3",
      "display_name": "Python 3"
    },
    "language_info": {
      "name": "python"
    }
  },
  "cells": [
    {
      "cell_type": "markdown",
      "metadata": {
        "id": "view-in-github",
        "colab_type": "text"
      },
      "source": [
        "<a href=\"https://colab.research.google.com/github/moridin04/CCADMACL-Research/blob/main/Fraud_Detection_Program.ipynb\" target=\"_parent\"><img src=\"https://colab.research.google.com/assets/colab-badge.svg\" alt=\"Open In Colab\"/></a>"
      ]
    },
    {
      "cell_type": "markdown",
      "source": [
        "# Exploring Anomaly Detection Techniques for Fraudulent Credit Card Transactions"
      ],
      "metadata": {
        "id": "7igOWW25Gk4H"
      }
    },
    {
      "cell_type": "markdown",
      "source": [
        "### [Problem Statement](https://www.kaggle.com/datasets/parisrohan/credit-score-classification)\n",
        "> **Our current credit scoring systems often limit access to fair credit, especially for people with non-traditional income sources or limited credit histories. As a community, we aim to create an inclusive, transparent, and fair credit scoring model that reduces bias, considers diverse financial backgrounds, and opens doors to responsible credit for all. This will promote economic mobility and set a new standard for equitable lending practices.**\n",
        "\n",
        "![dataset-cover.jpg](attachment:dataset-cover.jpg)\n",
        "---\n",
        "\n",
        "### **Our Goals**\n",
        "**Given a person’s credit-related information, build a machine learning model that can classify the credit score.**"
      ],
      "metadata": {
        "id": "xTMJI6XJG-id"
      }
    },
    {
      "cell_type": "code",
      "source": [
        "#Import necessary libraries"
      ],
      "metadata": {
        "id": "n6IO_PphjCz8"
      },
      "execution_count": null,
      "outputs": []
    },
    {
      "cell_type": "code",
      "execution_count": null,
      "metadata": {
        "id": "-ZHJSflCZLbZ"
      },
      "outputs": [],
      "source": [
        "#Load the Credit Card Fraud Detection dataset"
      ]
    },
    {
      "cell_type": "code",
      "source": [
        "#Display head and tail of dataset\n",
        "\n",
        "#Display shape, columns, null values, data types\n",
        "\n",
        "#Display statistics (df.describe(include='all))\n",
        "\n",
        "#Display value count of \"Class\"\n",
        "#df['Class'].value_counts()\n",
        "\n",
        "#Display distribution of independent variable \"Class\"\n",
        "\n",
        "#Display distribution of features (Time, V1-V28, Amount)\n",
        "\n",
        "#Display histograms\n",
        "#df.hist(bins=30, figsize=(30, 30)\n",
        "\n",
        "#Describe dataframe\n",
        "#df.describe()\n"
      ],
      "metadata": {
        "id": "dzqqGwS4jm_p"
      },
      "execution_count": null,
      "outputs": []
    },
    {
      "cell_type": "code",
      "source": [
        "#Preprocessing\n",
        "#Checking of null values\n",
        "\n",
        "#Imbalanced Data Handling\n",
        "\n",
        "#Feature Scaling (StandardScaler)\n",
        "\n",
        "#See overview of pre-processed dataset\n"
      ],
      "metadata": {
        "id": "_gFLEIVWZVRx"
      },
      "execution_count": null,
      "outputs": []
    },
    {
      "cell_type": "code",
      "source": [
        "#Explained Variance\n",
        "\n",
        "#Cumulative Explained Variance"
      ],
      "metadata": {
        "id": "W3bywLwrZXPx"
      },
      "execution_count": null,
      "outputs": []
    },
    {
      "cell_type": "code",
      "source": [
        "#RobustScaler\n",
        "#new_df = df.copy()\n",
        "#new_df['Amount'] = RobustScaler().fit_transform(new_df['Amount']).to_numpy().reshape(-1, 1))\n",
        "#new_df['Amount'].hist()\n",
        "#new_df['Amount'].describe()\n",
        "\n",
        "#time = new_df['Time']\n",
        "#new_df['Time'] = (time - time.min()) / time.max() - time.min())\n",
        "#new_df"
      ],
      "metadata": {
        "id": "yDIYv-bfvREi"
      },
      "execution_count": null,
      "outputs": []
    },
    {
      "cell_type": "code",
      "source": [
        "#Modelling\n",
        "#Isolation Forest\n"
      ],
      "metadata": {
        "id": "txUiQpwxgTd4"
      },
      "execution_count": null,
      "outputs": []
    },
    {
      "cell_type": "code",
      "source": [
        "#Model Evaluation\n",
        "#Precision\n",
        "\n",
        "#Recall\n",
        "\n",
        "#F1-Score\n",
        "\n",
        "#AUC-ROC"
      ],
      "metadata": {
        "id": "urhS0ozUk-iQ"
      },
      "execution_count": null,
      "outputs": []
    },
    {
      "cell_type": "code",
      "source": [
        "#Autoencoders\n"
      ],
      "metadata": {
        "id": "eg6mG8DnlMRm"
      },
      "execution_count": null,
      "outputs": []
    },
    {
      "cell_type": "code",
      "source": [
        "#Model Evaluation\n",
        "#Precision\n",
        "\n",
        "#Recall\n",
        "\n",
        "#F1-Score\n",
        "\n",
        "#AUC-ROC"
      ],
      "metadata": {
        "id": "qkeryI9LlPCi"
      },
      "execution_count": null,
      "outputs": []
    },
    {
      "cell_type": "code",
      "source": [
        "#Local Outlier Factor (LOF)\n"
      ],
      "metadata": {
        "id": "Df87_BGKlPiA"
      },
      "execution_count": null,
      "outputs": []
    },
    {
      "cell_type": "code",
      "source": [
        "#Model Evaluation\n",
        "#Precision\n",
        "\n",
        "#Recall\n",
        "\n",
        "#F1-Score\n",
        "\n",
        "#AUC-ROC"
      ],
      "metadata": {
        "id": "JFg_e31vlQ9x"
      },
      "execution_count": null,
      "outputs": []
    },
    {
      "cell_type": "code",
      "source": [
        "#Comparison of models, select the best-performing model\n",
        "\n",
        "#Matplotlib and Seaborn"
      ],
      "metadata": {
        "id": "wYFqrIKAlGWu"
      },
      "execution_count": null,
      "outputs": []
    },
    {
      "cell_type": "code",
      "source": [
        "#Creation of metrics_data\n",
        "\n",
        "#Create and display DataFrame"
      ],
      "metadata": {
        "id": "T4XCllCyloNq"
      },
      "execution_count": null,
      "outputs": []
    }
  ]
}